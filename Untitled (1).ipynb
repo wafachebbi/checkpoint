{
 "cells": [
  {
   "cell_type": "code",
   "execution_count": 1,
   "id": "7270fa95",
   "metadata": {},
   "outputs": [
    {
     "name": "stdout",
     "output_type": "stream",
     "text": [
      "bonjour\n"
     ]
    }
   ],
   "source": [
    "print(\"bonjour\")"
   ]
  },
  {
   "cell_type": "code",
   "execution_count": 9,
   "id": "38fffe77",
   "metadata": {},
   "outputs": [
    {
     "name": "stdout",
     "output_type": "stream",
     "text": [
      "what's your first name?\n",
      "wafa\n",
      "what's your last name?\n",
      "chebbi\n",
      "chebbi wafa\n"
     ]
    }
   ],
   "source": [
    "print(\"what's your first name?\")\n",
    "str1=input()\n",
    "print(\"what's your last name?\")\n",
    "str2=input()\n",
    "print(str2+\" \"+str1)"
   ]
  },
  {
   "cell_type": "code",
   "execution_count": 19,
   "id": "119e1fab",
   "metadata": {},
   "outputs": [
    {
     "name": "stdout",
     "output_type": "stream",
     "text": [
      "5\n",
      "615\n"
     ]
    }
   ],
   "source": [
    "n = int(input())\n",
    "n1 = n\n",
    "n2 = n+n*10\n",
    "n3 = n+n*10+n*100\n",
    "print (n1+n2+n3)"
   ]
  },
  {
   "cell_type": "code",
   "execution_count": 22,
   "id": "714e6119",
   "metadata": {},
   "outputs": [
    {
     "name": "stdout",
     "output_type": "stream",
     "text": [
      "5\n",
      "this is Odd\n"
     ]
    }
   ],
   "source": [
    "n = int(input())\n",
    "if (n % 2) == 0:\n",
    "   print(\"this is Even\")\n",
    "else:\n",
    "   print(\"this is Odd\")"
   ]
  },
  {
   "cell_type": "code",
   "execution_count": 48,
   "id": "28491675",
   "metadata": {},
   "outputs": [
    {
     "name": "stdout",
     "output_type": "stream",
     "text": [
      ",2002,2009,2016,2023,2037,2044,2051,2058,2072,2079,2086,2093,2107,2114,2121,2128,2142,2149,2156,2163,2177,2184,2191,2198,2212,2219,2226,2233,2247,2254,2261,2268,2282,2289,2296,2303,2317,2324,2331,2338,2352,2359,2366,2373,2387,2394,2401,2408,2422,2429,2436,2443,2457,2464,2471,2478,2492,2499,2506,2513,2527,2534,2541,2548,2562,2569,2576,2583,2597,2604,2611,2618,2632,2639,2646,2653,2667,2674,2681,2688,2702,2709,2716,2723,2737,2744,2751,2758,2772,2779,2786,2793,2807,2814,2821,2828,2842,2849,2856,2863,2877,2884,2891,2898,2912,2919,2926,2933,2947,2954,2961,2968,2982,2989,2996,3003,3017,3024,3031,3038,3052,3059,3066,3073,3087,3094,3101,3108,3122,3129,3136,3143,3157,3164,3171,3178,3192,3199\n"
     ]
    }
   ],
   "source": [
    "sums=\"\"\n",
    "for i in range(2000,3200):\n",
    "    if (i % 7) == 0 and (i % 5) != 0:  \n",
    "        n=str(i)\n",
    "        sums=sums+\",\"+n\n",
    "print (sums)\n"
   ]
  },
  {
   "cell_type": "code",
   "execution_count": 53,
   "id": "4056eda5",
   "metadata": {},
   "outputs": [
    {
     "name": "stdout",
     "output_type": "stream",
     "text": [
      "The factorial of 8 is 40320\n"
     ]
    }
   ],
   "source": [
    "n = 8\n",
    "factorial = 1\n",
    "if n < 0:\n",
    "      print(\"negative number\")\n",
    "elif n == 0:\n",
    "      print(\"The factorial of 0 is 1\")\n",
    "else:\n",
    "    for i in range(1,n + 1):\n",
    "           factorial = factorial*i\n",
    "print(\"The factorial of\",n,\"is\",factorial)"
   ]
  },
  {
   "cell_type": "code",
   "execution_count": 72,
   "id": "e9e282d0",
   "metadata": {},
   "outputs": [
    {
     "name": "stdout",
     "output_type": "stream",
     "text": [
      "hello team\n",
      "hlota\n"
     ]
    }
   ],
   "source": [
    "str1=input()\n",
    "result = \"\" \n",
    "for i in range(len(str1)):\n",
    "    if i % 2 == 0:\n",
    "        result = result+str1[i]\n",
    "print (result)"
   ]
  },
  {
   "cell_type": "code",
   "execution_count": 80,
   "id": "9a02145b",
   "metadata": {},
   "outputs": [
    {
     "name": "stdout",
     "output_type": "stream",
     "text": [
      "the price after 10% of discount is 7.2\n"
     ]
    }
   ],
   "source": [
    "n= 8\n",
    "if n > 500:\n",
    "    nn=n*0.5\n",
    "    print(\"the price after 50% of discount is\",nn)\n",
    "elif n>200 and n<500:\n",
    "    nn=n*0.7\n",
    "    print(\"the price after 30% of discount is\",nn)\n",
    "elif n<200:\n",
    "    nn=n*0.9\n",
    "    print(\"the price after 10% of discount is\",nn)"
   ]
  },
  {
   "cell_type": "code",
   "execution_count": null,
   "id": "e552c2b6",
   "metadata": {},
   "outputs": [],
   "source": []
  }
 ],
 "metadata": {
  "kernelspec": {
   "display_name": "Python 3",
   "language": "python",
   "name": "python3"
  },
  "language_info": {
   "codemirror_mode": {
    "name": "ipython",
    "version": 3
   },
   "file_extension": ".py",
   "mimetype": "text/x-python",
   "name": "python",
   "nbconvert_exporter": "python",
   "pygments_lexer": "ipython3",
   "version": "3.8.8"
  }
 },
 "nbformat": 4,
 "nbformat_minor": 5
}
