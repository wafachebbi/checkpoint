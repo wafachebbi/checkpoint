{
 "cells": [
  {
   "cell_type": "code",
   "execution_count": 2,
   "id": "801c9845",
   "metadata": {},
   "outputs": [
    {
     "name": "stdout",
     "output_type": "stream",
     "text": [
      "(1, 2, 3)\n"
     ]
    }
   ],
   "source": [
    "class Point3D(object):\n",
    "    def __init__(self, x, y, z):\n",
    "        self.x = x\n",
    "        self.y = y\n",
    "        self.z = z\n",
    "    def __repr__(self):\n",
    "        return \"(%d, %d, %d)\" % (self.x, self.y, self.z)\n",
    "        \n",
    "my_point = Point3D(1,2,3)\n",
    "\n",
    "print(my_point)"
   ]
  },
  {
   "cell_type": "code",
   "execution_count": 3,
   "id": "dc6fcc59",
   "metadata": {},
   "outputs": [
    {
     "name": "stdout",
     "output_type": "stream",
     "text": [
      "12\n",
      "14\n"
     ]
    }
   ],
   "source": [
    "class Rectangle():\n",
    "    def __init__(self, l, w):\n",
    "        self.length = l\n",
    "        self.width  = w\n",
    "\n",
    "    def rectangle_area(self):\n",
    "        return self.length*self.width\n",
    "    def rectangle_perimeter(self):\n",
    "        return (self.length+self.width)*2\n",
    "\n",
    "my_Rectangle = Rectangle(3, 4)\n",
    "print(my_Rectangle.rectangle_area())\n",
    "print(my_Rectangle.rectangle_perimeter())"
   ]
  },
  {
   "cell_type": "code",
   "execution_count": 65,
   "id": "3febc35f",
   "metadata": {},
   "outputs": [
    {
     "name": "stdout",
     "output_type": "stream",
     "text": [
      "coordonnée x du point à tester: 1\n",
      "coordonnée y du point à tester: 1\n",
      "le point de coordonné est dans le cercle\n"
     ]
    }
   ],
   "source": [
    "class Point():\n",
    "    def __init__(self,x,y):\n",
    "        self.x = x\n",
    "        self.y = y\n",
    "    def getx(self):\n",
    "        return self.x\n",
    "    def gety(self):\n",
    "        return self.y\n",
    "class Circle():\n",
    "    def __init__(self,Point,r):\n",
    "        self.radius = r\n",
    "        self.center = Point\n",
    "    def area(self):\n",
    "        return self.radius**2*3.14\n",
    "    \n",
    "    def perimeter(self):\n",
    "        return 2*self.radius*3.14\n",
    "    \n",
    "    def isinside(self):\n",
    "        a=float(input(\"coordonnée x du point à tester: \"))\n",
    "        b=float(input(\"coordonnée y du point à tester: \"))\n",
    "        if ((a-self.center.getx())**2 + (b-self.center.gety())**2 <= self.radius**2):\n",
    "            print ('le point de coordonné est dans le cercle' )\n",
    "        else:\n",
    "            print ('le point de coordonné n est pas dans le cercle')\n",
    "mypoint=Point(1,1)\n",
    "mycircl = Circle(mypoint,10)\n",
    "mycircl.isinside()"
   ]
  },
  {
   "cell_type": "code",
   "execution_count": 5,
   "id": "2f9f316c",
   "metadata": {},
   "outputs": [
    {
     "name": "stdout",
     "output_type": "stream",
     "text": [
      "Enter amount to be Deposited: 200\n",
      "\n",
      " Amount Deposited: 200.0\n",
      "Enter amount to be Withdrawn: 50\n",
      "\n",
      " You Withdrew: 50.0\n",
      "\n",
      " Net Available Balance= 150.0\n"
     ]
    }
   ],
   "source": [
    "class Bank_Account:\n",
    "    def __init__(self):\n",
    "        self.balance=0\n",
    " \n",
    "    def deposit(self):\n",
    "        amount=float(input(\"Enter amount to be Deposited: \"))\n",
    "        self.balance += amount\n",
    "        print(\"\\n Amount Deposited:\",amount)\n",
    "  \n",
    "    def withdraw(self):\n",
    "        amount = float(input(\"Enter amount to be Withdrawn: \"))\n",
    "        if self.balance>=amount:\n",
    "            self.balance-=amount\n",
    "            print(\"\\n You Withdrew:\", amount)\n",
    "        else:\n",
    "            print(\"\\n Insufficient balance  \")\n",
    "  \n",
    "    def display(self):\n",
    "        print(\"\\n Net Available Balance=\",self.balance)\n",
    "\n",
    "s = Bank_Account()\n",
    "   \n",
    "s.deposit()\n",
    "s.withdraw()\n",
    "s.display()"
   ]
  },
  {
   "cell_type": "code",
   "execution_count": null,
   "id": "ce5eed96",
   "metadata": {},
   "outputs": [],
   "source": []
  }
 ],
 "metadata": {
  "kernelspec": {
   "display_name": "Python 3",
   "language": "python",
   "name": "python3"
  },
  "language_info": {
   "codemirror_mode": {
    "name": "ipython",
    "version": 3
   },
   "file_extension": ".py",
   "mimetype": "text/x-python",
   "name": "python",
   "nbconvert_exporter": "python",
   "pygments_lexer": "ipython3",
   "version": "3.8.8"
  }
 },
 "nbformat": 4,
 "nbformat_minor": 5
}
