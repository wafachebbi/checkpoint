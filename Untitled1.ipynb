{
 "cells": [
  {
   "cell_type": "code",
   "execution_count": 1,
   "id": "2b0594f6",
   "metadata": {},
   "outputs": [],
   "source": [
    "def function_name():\n",
    "      # set of tasks\n",
    "     print(\"Hello World, this is my first function\")\n",
    "# end of function"
   ]
  },
  {
   "cell_type": "code",
   "execution_count": 2,
   "id": "4f7d45b2",
   "metadata": {},
   "outputs": [
    {
     "name": "stdout",
     "output_type": "stream",
     "text": [
      "Hello World, this is my first function\n"
     ]
    }
   ],
   "source": [
    "function_name()"
   ]
  },
  {
   "cell_type": "code",
   "execution_count": 3,
   "id": "b539b1c5",
   "metadata": {},
   "outputs": [
    {
     "name": "stdout",
     "output_type": "stream",
     "text": [
      "I am from Maroc\n",
      "I am from Algeria\n",
      "I am from Tunisia\n"
     ]
    }
   ],
   "source": [
    "def my_function(country=\"Tunisia\"):\n",
    "    print(\"I am from \"+country)\n",
    "my_function(\"Maroc\")\n",
    "my_function(\"Algeria\")\n",
    "my_function()"
   ]
  },
  {
   "cell_type": "markdown",
   "id": "586a4298",
   "metadata": {},
   "source": [
    "# question 1"
   ]
  },
  {
   "cell_type": "code",
   "execution_count": 11,
   "id": "d067dc91",
   "metadata": {},
   "outputs": [],
   "source": [
    "def max_number(n1,n2,n3):\n",
    "    if (n1 >= n2) and (n1 >= n3):\n",
    "       maxi = n1\n",
    "    elif (n2 >= n1) and (n2 >= n3):\n",
    "       maxi = n2\n",
    "    else:\n",
    "       maxi = n3\n",
    "    \n",
    "    return  print(\"The max is\",maxi)\n"
   ]
  },
  {
   "cell_type": "code",
   "execution_count": 12,
   "id": "224f5153",
   "metadata": {},
   "outputs": [
    {
     "name": "stdout",
     "output_type": "stream",
     "text": [
      "The max is 35\n"
     ]
    }
   ],
   "source": [
    "max_number(20,35,19)"
   ]
  },
  {
   "cell_type": "markdown",
   "id": "b4dae644",
   "metadata": {},
   "source": [
    "# question 2"
   ]
  },
  {
   "cell_type": "code",
   "execution_count": 13,
   "id": "365a2632",
   "metadata": {},
   "outputs": [
    {
     "name": "stdout",
     "output_type": "stream",
     "text": [
      "(50, 30)\n"
     ]
    }
   ],
   "source": [
    "def calculation(a, b):\n",
    "    return a+b, a-b\n",
    "\n",
    "res = calculation(40, 10)\n",
    "print(res)"
   ]
  },
  {
   "cell_type": "markdown",
   "id": "17014d28",
   "metadata": {},
   "source": [
    "# question 3"
   ]
  },
  {
   "cell_type": "code",
   "execution_count": 14,
   "id": "a2ea33b0",
   "metadata": {},
   "outputs": [],
   "source": [
    "def sum_list(liste):\n",
    "    sum_numbers = 0\n",
    "    for x in liste:\n",
    "        sum_numbers += x\n",
    "    return sum_numbers"
   ]
  },
  {
   "cell_type": "code",
   "execution_count": 26,
   "id": "de17cc5d",
   "metadata": {},
   "outputs": [],
   "source": [
    "def multiply_list(liste):\n",
    "    mult_numbers = 1\n",
    "    for x in liste:\n",
    "        mult_numbers *= x\n",
    "    return mult_numbers"
   ]
  },
  {
   "cell_type": "code",
   "execution_count": 47,
   "id": "bf3ecfdd",
   "metadata": {},
   "outputs": [
    {
     "name": "stdout",
     "output_type": "stream",
     "text": [
      "21\n",
      "189\n"
     ]
    }
   ],
   "source": [
    "liste = [3, 6, 7, 8, 9, 2, 1, 5]\n",
    "listeo = []\n",
    "listee = []\n",
    "for i in range(0, len(liste)):\n",
    "    if i % 2:\n",
    "        listee.append(liste[i])\n",
    "    else :\n",
    "        listeo.append(liste[i])\n",
    "print(sum_list(listee))\n",
    "print(multiply_list(listeo))"
   ]
  },
  {
   "cell_type": "markdown",
   "id": "60fdbd9b",
   "metadata": {},
   "source": [
    "# question 4"
   ]
  },
  {
   "cell_type": "code",
   "execution_count": 46,
   "id": "f25cf478",
   "metadata": {},
   "outputs": [
    {
     "name": "stdout",
     "output_type": "stream",
     "text": [
      "black-green-red-white-yellow\n"
     ]
    }
   ],
   "source": [
    "seq=('green-red-yellow-black-white')\n",
    "for n in seq:\n",
    "    seqs=seq.split('-')\n",
    "    seqs.sort()\n",
    "print('-'.join(seqs))\n"
   ]
  },
  {
   "cell_type": "markdown",
   "id": "03db71fa",
   "metadata": {},
   "source": [
    "# question 5"
   ]
  },
  {
   "cell_type": "code",
   "execution_count": 53,
   "id": "1d7f2734",
   "metadata": {},
   "outputs": [
    {
     "name": "stdout",
     "output_type": "stream",
     "text": [
      "[18, 22, 24]\n"
     ]
    }
   ],
   "source": [
    "D=(100,150,180)\n",
    "def func_Calc(D):\n",
    "    C=50\n",
    "    H=30\n",
    "    import math \n",
    "    Q = round(math.sqrt((2 * C * D)/H))\n",
    "    return(Q)\n",
    "print (list(map(func_Calc,D)))"
   ]
  },
  {
   "cell_type": "code",
   "execution_count": null,
   "id": "f296cf98",
   "metadata": {},
   "outputs": [],
   "source": []
  }
 ],
 "metadata": {
  "kernelspec": {
   "display_name": "Python 3",
   "language": "python",
   "name": "python3"
  },
  "language_info": {
   "codemirror_mode": {
    "name": "ipython",
    "version": 3
   },
   "file_extension": ".py",
   "mimetype": "text/x-python",
   "name": "python",
   "nbconvert_exporter": "python",
   "pygments_lexer": "ipython3",
   "version": "3.8.8"
  }
 },
 "nbformat": 4,
 "nbformat_minor": 5
}
