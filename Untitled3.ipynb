{
 "cells": [
  {
   "cell_type": "markdown",
   "id": "f00fdf4a",
   "metadata": {},
   "source": [
    "# question1"
   ]
  },
  {
   "cell_type": "code",
   "execution_count": 1,
   "id": "095df400",
   "metadata": {},
   "outputs": [
    {
     "name": "stdout",
     "output_type": "stream",
     "text": [
      "[1 2 3]\n",
      "[1, 2, 3]\n"
     ]
    }
   ],
   "source": [
    "import numpy as np\n",
    "arr = np.array([1, 2, 3])\n",
    "print(arr)\n",
    "\n",
    "list1 = arr.tolist()\n",
    "print(list1)"
   ]
  },
  {
   "cell_type": "markdown",
   "id": "03e5d8f4",
   "metadata": {},
   "source": [
    "# question2"
   ]
  },
  {
   "cell_type": "code",
   "execution_count": 4,
   "id": "fdc77306",
   "metadata": {},
   "outputs": [
    {
     "name": "stdout",
     "output_type": "stream",
     "text": [
      "[[0 1 2]\n",
      " [3 4 5]\n",
      " [6 7 8]]\n",
      "12\n"
     ]
    }
   ],
   "source": [
    "import numpy as np\n",
    "m = np.arange(9).reshape(3,3)\n",
    "print(m)\n",
    "result =  np.trace(m)\n",
    "print(result)"
   ]
  },
  {
   "cell_type": "markdown",
   "id": "d336ff01",
   "metadata": {},
   "source": [
    "# question3"
   ]
  },
  {
   "cell_type": "code",
   "execution_count": 10,
   "id": "bfba56cc",
   "metadata": {},
   "outputs": [
    {
     "name": "stdout",
     "output_type": "stream",
     "text": [
      "Original array: \n",
      "[[1 2]\n",
      " [3 5]]\n",
      "3\n",
      "Values bigger than x = [5]\n"
     ]
    }
   ],
   "source": [
    "import numpy as np\n",
    "a = np.array([[1,2],[3,5]])\n",
    "print(\"Original array: \")\n",
    "print(a)\n",
    "x=int(input())\n",
    "print(\"Values bigger than x =\", a[a>x])"
   ]
  },
  {
   "cell_type": "markdown",
   "id": "849df12e",
   "metadata": {},
   "source": [
    "# question4"
   ]
  },
  {
   "cell_type": "code",
   "execution_count": 14,
   "id": "6080e68c",
   "metadata": {},
   "outputs": [
    {
     "name": "stdout",
     "output_type": "stream",
     "text": [
      "[[ 6  8]\n",
      " [10 12]]\n"
     ]
    }
   ],
   "source": [
    "import numpy as np\n",
    "A=np.array([[1,2],[3,4]])\n",
    "B=np.array([[5,6],[7,8]])\n",
    "C=np.add(A,B)\n",
    "print (C)"
   ]
  },
  {
   "cell_type": "markdown",
   "id": "7115df97",
   "metadata": {},
   "source": [
    "# question5"
   ]
  },
  {
   "cell_type": "code",
   "execution_count": 18,
   "id": "033572c2",
   "metadata": {},
   "outputs": [
    {
     "name": "stdout",
     "output_type": "stream",
     "text": [
      "orig matrix [[0.23178396 0.68852684 0.75399026 0.26940228 0.39330332 0.3171616\n",
      "  0.98003755 0.20688172 0.88899546 0.4449393 ]\n",
      " [0.57318634 0.65672599 0.98417772 0.35151882 0.09943162 0.45938418\n",
      "  0.18629965 0.03592932 0.13901597 0.2042582 ]\n",
      " [0.98694784 0.36380086 0.05300369 0.25152483 0.23771496 0.19705634\n",
      "  0.94460803 0.48664685 0.03559358 0.50952169]\n",
      " [0.00635554 0.56152725 0.41104554 0.37524129 0.92595087 0.21959805\n",
      "  0.15317381 0.18934482 0.42653962 0.69476187]\n",
      " [0.24910588 0.24762381 0.33314369 0.23912703 0.49410346 0.32695475\n",
      "  0.98223962 0.84740863 0.94430095 0.06904475]]\n",
      "new matrix [[-0.20077524  0.25596764  0.32143107 -0.16315692 -0.03925588 -0.1153976\n",
      "   0.54747835 -0.22567748  0.45643626  0.0123801 ]\n",
      " [ 0.14062714  0.22416679  0.55161852 -0.08104037 -0.33312758  0.02682498\n",
      "  -0.24625955 -0.39662988 -0.29354323 -0.228301  ]\n",
      " [ 0.55438864 -0.06875834 -0.37955551 -0.18103437 -0.19484424 -0.23550286\n",
      "   0.51204883  0.05408765 -0.39696562  0.07696249]\n",
      " [-0.42620366  0.12896805 -0.02151366 -0.05731791  0.49339167 -0.21296115\n",
      "  -0.27938539 -0.24321438 -0.00601958  0.26220267]\n",
      " [-0.18345332 -0.18493539 -0.09941551 -0.19343217  0.06154426 -0.10560445\n",
      "   0.54968042  0.41484943  0.51174175 -0.36351445]]\n"
     ]
    }
   ],
   "source": [
    "import numpy as np\n",
    "X = np.random.random((5,10))\n",
    "print('orig matrix',X)\n",
    "Y = X - X.mean()\n",
    "print('new matrix',Y)"
   ]
  },
  {
   "cell_type": "code",
   "execution_count": null,
   "id": "ddc4660c",
   "metadata": {},
   "outputs": [],
   "source": []
  }
 ],
 "metadata": {
  "kernelspec": {
   "display_name": "Python 3",
   "language": "python",
   "name": "python3"
  },
  "language_info": {
   "codemirror_mode": {
    "name": "ipython",
    "version": 3
   },
   "file_extension": ".py",
   "mimetype": "text/x-python",
   "name": "python",
   "nbconvert_exporter": "python",
   "pygments_lexer": "ipython3",
   "version": "3.8.8"
  }
 },
 "nbformat": 4,
 "nbformat_minor": 5
}
